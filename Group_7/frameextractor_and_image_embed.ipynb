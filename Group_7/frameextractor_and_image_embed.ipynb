{
  "nbformat": 4,
  "nbformat_minor": 0,
  "metadata": {
    "colab": {
      "name": "frameextractor-and-image-embed.ipynb",
      "provenance": [],
      "collapsed_sections": []
    },
    "kernelspec": {
      "name": "python3",
      "display_name": "Python 3"
    },
    "accelerator": "GPU"
  },
  "cells": [
    {
      "cell_type": "code",
      "metadata": {
        "id": "45-GOv6dYUH1",
        "colab_type": "code",
        "colab": {}
      },
      "source": [
        "from google.colab import drive"
      ],
      "execution_count": 0,
      "outputs": []
    },
    {
      "cell_type": "code",
      "metadata": {
        "id": "zNYZm8EAYZ-v",
        "colab_type": "code",
        "outputId": "37ceb9ce-5de1-4356-9277-0e19000cab76",
        "colab": {
          "base_uri": "https://localhost:8080/",
          "height": 122
        }
      },
      "source": [
        "drive.mount(\"/content/drive\")"
      ],
      "execution_count": 0,
      "outputs": [
        {
          "output_type": "stream",
          "text": [
            "Go to this URL in a browser: https://accounts.google.com/o/oauth2/auth?client_id=947318989803-6bn6qk8qdgf4n4g3pfee6491hc0brc4i.apps.googleusercontent.com&redirect_uri=urn%3aietf%3awg%3aoauth%3a2.0%3aoob&response_type=code&scope=email%20https%3a%2f%2fwww.googleapis.com%2fauth%2fdocs.test%20https%3a%2f%2fwww.googleapis.com%2fauth%2fdrive%20https%3a%2f%2fwww.googleapis.com%2fauth%2fdrive.photos.readonly%20https%3a%2f%2fwww.googleapis.com%2fauth%2fpeopleapi.readonly\n",
            "\n",
            "Enter your authorization code:\n",
            "··········\n",
            "Mounted at /content/drive\n"
          ],
          "name": "stdout"
        }
      ]
    },
    {
      "cell_type": "code",
      "metadata": {
        "id": "6kdVhYTuY9iv",
        "colab_type": "code",
        "colab": {}
      },
      "source": [
        "!cd drive\n"
      ],
      "execution_count": 0,
      "outputs": []
    },
    {
      "cell_type": "code",
      "metadata": {
        "id": "ORYy0MJaFrvg",
        "colab_type": "code",
        "outputId": "d8199dc0-d7ad-400a-ddaa-52db47c16960",
        "colab": {
          "base_uri": "https://localhost:8080/",
          "height": 34
        }
      },
      "source": [
        "!ls"
      ],
      "execution_count": 0,
      "outputs": [
        {
          "output_type": "stream",
          "text": [
            "drive  sample_data\n"
          ],
          "name": "stdout"
        }
      ]
    },
    {
      "cell_type": "code",
      "metadata": {
        "id": "1venGTNoFuSX",
        "colab_type": "code",
        "outputId": "4fad0d6a-a236-47d5-eb88-4efe68a5c130",
        "colab": {
          "base_uri": "https://localhost:8080/",
          "height": 34
        }
      },
      "source": [
        "cd drive\n"
      ],
      "execution_count": 0,
      "outputs": [
        {
          "output_type": "stream",
          "text": [
            "/content/drive\n"
          ],
          "name": "stdout"
        }
      ]
    },
    {
      "cell_type": "code",
      "metadata": {
        "id": "D7CFnlLkF08f",
        "colab_type": "code",
        "outputId": "6c636a81-f1f6-4d08-d96c-c8688b2b09e1",
        "colab": {
          "base_uri": "https://localhost:8080/",
          "height": 34
        }
      },
      "source": [
        "!ls"
      ],
      "execution_count": 0,
      "outputs": [
        {
          "output_type": "stream",
          "text": [
            "'My Drive'\n"
          ],
          "name": "stdout"
        }
      ]
    },
    {
      "cell_type": "code",
      "metadata": {
        "id": "ukI_7_UVF1oq",
        "colab_type": "code",
        "outputId": "107b0c85-ca0d-4988-f8f0-7df51a9a565f",
        "colab": {
          "base_uri": "https://localhost:8080/",
          "height": 34
        }
      },
      "source": [
        "cd 'My Drive'"
      ],
      "execution_count": 0,
      "outputs": [
        {
          "output_type": "stream",
          "text": [
            "/content/drive/My Drive\n"
          ],
          "name": "stdout"
        }
      ]
    },
    {
      "cell_type": "code",
      "metadata": {
        "id": "av2LCC17F5s3",
        "colab_type": "code",
        "outputId": "93230c09-5820-408f-d10e-31404fde21b6",
        "colab": {
          "base_uri": "https://localhost:8080/",
          "height": 1000
        }
      },
      "source": [
        "!ls\n"
      ],
      "execution_count": 0,
      "outputs": [
        {
          "output_type": "stream",
          "text": [
            "'20180405 (1).gpx.gdoc'\n",
            " 20180405.gpx.gdoc\n",
            " 6_Nonregular_Languages.gdoc\n",
            " 6_Nonregular_Languages.pdf\n",
            "'ASE2 M2018 Final Marks.gsheet'\n",
            " Blank_Project.gscript\n",
            " CGM\n",
            "'CGM Project'\n",
            " Charades_v1_rgb.tar\n",
            " Classroom\n",
            "'Colab Notebooks'\n",
            " DE_mid2.gdoc\n",
            " DE_mid2.pdf\n",
            " eis.odt.gdoc\n",
            " first_evaluation\n",
            " Function\n",
            "'GE-assignment01 (1).gdoc'\n",
            "'GE-assignment01 (2).gdoc'\n",
            " GE-assignment01.docx\n",
            " GE-assignment01.gdoc\n",
            " GE-assignment01.pdf\n",
            "'Getting started.pdf'\n",
            "'GPSLogger for Android'\n",
            " IMG_20170526_231018_988.jpg\n",
            "'IMG_20170526_231018_988 - JUNAID NZ.jpg'\n",
            "'junaid (1).odt.gdoc'\n",
            "'junaid (2).odt.gdoc'\n",
            " Junaid_ITWS3.zip\n",
            " Junaidnzphoto.jpg\n",
            "'JUNAID_NZ_RESUME (1).pdf'\n",
            "'JUNAID_NZ_RESUME - JUNAID NZ (1).pdf'\n",
            "'JUNAID_NZ_RESUME - JUNAID NZ.pdf'\n",
            " JunaidNZ_Resume.pdf\n",
            " JUNAID_NZ_RESUME.pdf\n",
            " Junaidnzsignature.jpg\n",
            " junaid.odt.gdoc\n",
            "'Junaid_Resume_2020 (1).pdf'\n",
            "'Junaid_Resume_2020 (2).pdf'\n",
            "'Junaid_Resume_2020 (3).pdf'\n",
            "'Junaid_Resume_2020 (4).pdf'\n",
            "'Junaid_Resume_2020 - JUNAID NZ (1).pdf'\n",
            "'Junaid_Resume_2020 - JUNAID NZ.pdf'\n",
            " Junaid_Resume_2020.pdf\n",
            " Junaid_Resume_College.pdf\n",
            " junaid_resume.pdf\n",
            " LaishanotesMidsem2.pdf\n",
            " Laishanotesmidsem2vectors.pdf\n",
            "'linear transformation.pdf'\n",
            "'Mid_2_ Exam Schedule_M-2019_UG2_UG_3_UG_4 V1.1.pdf'\n",
            " morphology-gonzalez-woods.gslides\n",
            " morphology-gonzalez-woods.ppt\n",
            " Movie-Booking-Website.zip\n",
            " polymorphism_exercise.txt.gdoc\n",
            " Presentation1.pptx\n",
            " Presentation1.pptx.gslides\n",
            " solutions.txt.gdoc\n",
            "'sqlAssignment (1).txt.gdoc'\n",
            " sqlAssignment.txt.gdoc\n",
            " Student.txt.gdoc\n",
            "'T2 (1).gsheet'\n",
            "'T2 (2).gsheet'\n",
            " T2.gsheet\n",
            " T2.xlsx\n",
            " third.gdoc\n",
            " Timetable_M-2019_V1.4.pdf\n",
            " Torrents\n",
            " upendra_20160010038.gdoc\n",
            " upendra_20160010038.pdf\n",
            " Viswanath.rar\n",
            " WasteManagement.gslides\n"
          ],
          "name": "stdout"
        }
      ]
    },
    {
      "cell_type": "code",
      "metadata": {
        "id": "gydpO4HrGYIg",
        "colab_type": "code",
        "outputId": "a228d564-1087-47ab-c4fb-6dffa00543a3",
        "colab": {
          "base_uri": "https://localhost:8080/",
          "height": 34
        }
      },
      "source": [
        "cd 'CGM Project'"
      ],
      "execution_count": 0,
      "outputs": [
        {
          "output_type": "stream",
          "text": [
            "/content/drive/My Drive/CGM Project\n"
          ],
          "name": "stdout"
        }
      ]
    },
    {
      "cell_type": "code",
      "metadata": {
        "id": "X1Jb2LXmGuJr",
        "colab_type": "code",
        "outputId": "1bfb252d-e7dc-488c-b100-0bc150ff1a46",
        "colab": {
          "base_uri": "https://localhost:8080/",
          "height": 102
        }
      },
      "source": [
        "!ls"
      ],
      "execution_count": 0,
      "outputs": [
        {
          "output_type": "stream",
          "text": [
            " charades-algorithms-master.zip   Charades_v1_train.gsheet\t my2.png\n",
            " charades_v1_rgb\t\t 'Copy of image_embedding.npy'\t my.png\n",
            " Charades_v1_rgb.tar\t\t  dataset\t\t\t vid_ids.csv\n",
            "'Charades_v1_train (1).gsheet'\t  frameextractor.ipynb\n",
            " Charades_v1_train.csv\t\t  img_emd.npy\n"
          ],
          "name": "stdout"
        }
      ]
    },
    {
      "cell_type": "code",
      "metadata": {
        "id": "PATOnIuCGvms",
        "colab_type": "code",
        "colab": {}
      },
      "source": [
        "import pandas as pd\n",
        "import glob\n",
        "import os\n",
        "import matplotlib.pyplot as plt\n",
        "from PIL import Image\n",
        "import numpy as np\n",
        "import math"
      ],
      "execution_count": 0,
      "outputs": []
    },
    {
      "cell_type": "code",
      "metadata": {
        "id": "31mKMsVhG0vV",
        "colab_type": "code",
        "colab": {}
      },
      "source": [
        "df = pd.read_csv('Charades_v1_train.csv')"
      ],
      "execution_count": 0,
      "outputs": []
    },
    {
      "cell_type": "code",
      "metadata": {
        "id": "JbQlkks1g2Vc",
        "colab_type": "code",
        "outputId": "795870e3-936f-4a9a-a888-f24277dc4c0f",
        "colab": {
          "base_uri": "https://localhost:8080/",
          "height": 54
        }
      },
      "source": [
        "df2 = pd.read_csv(\"vid_ids.csv\")\n",
        "vids = set()\n",
        "for i in df2[\"0\"]:\n",
        "  vids.add(i)\n",
        "script_dict={}\n",
        "for rows in df.itertuples(): \n",
        "  if rows.id in vids:\n",
        "    script_dict[rows.id]=rows.script\n",
        "print(script_dict)\n"
      ],
      "execution_count": 0,
      "outputs": [
        {
          "output_type": "stream",
          "text": [
            "{'46GP8': 'A person cooking on a stove while watching something out a window.', 'N11GT': 'One person opens up a folded blanket, then sneezes and leaves the stairs with a broom.', 'KRF68': 'A person runs into their laundry room. They grasp the doorknob and close the door. The person starts dressing then leaves holding their phone.', 'MJO7C': 'A person runs into their pantry holding a bottle of medicine. They grab the doorknob and close the door while watching a video on their phone.', 'S6MPZ': 'A person is eating at the desk and lying the phone down.', '7HVU8': 'A person is throwing items into a bag then starts fixing their clothes.', 'MCQO5': 'A person is undressing in the closet.  They put their clothes back into the wardrobe and drink a glass of water while looking at a picture.', 'VPIYF': 'A person is standing by a shelf and grasping his phone off of it.', 'JSUF4': 'A person is sweeping up with a broom and putting things back in their place. They take break on the sofa and start drinking a water.', '8WJIR': 'A person in their bedroom is holding a glass of coffee that they picked up from the table. They are smiling because they see something funny on the television and then they start closing the bedroom door.', 'INQNU': 'A laughing person is fixing a bed in their bedroom while drinking a glass of milk.', 'LI6LV': 'In the bathroom, the person put a towel on the doorknob and started undressing.  Half way through they took some medicine from the counter and took it with a drink of water.', 'MGCM8': 'The young person was eating a sandwich while browsing on their laptop after working and standing all day long.', 'I8QJN': 'A person awakens on the floor of the kitchen. The person gets up, putting their hand on the edge of the stove to help. The person walks to the sink, and pours a large glass of water.', 'XC9EY': 'A person walks along the hallway, smiling as the person straightens a picture on the wall.  The person puts a glass down on a table.', 'DOQ9Y': 'A person undressing by removing their jacket in the pantry. They are looking for some food, and when they find some groceries, they decide on leaving the pantry while closing the door.', 'RK9II': 'A person is tidying up with a broom. Laughing, the person walks to the small end table and leans the broom against it.', 'QGQGZ': 'A person opens the door into the kitchen then turns the light on in. They then proceed to put the groceries away.', '5S1WQ': 'A person is closing the desk and then playing with a broom in the dining room.', 'CUCBN': 'A person smiles at a bag of groceries in the living room. A person leaves the groceries in the room and walks outside.', 'SX0HE': \"In a hallway, a person drinks from a glass and then holds a a phone to the person's ear.\", '72JYK': 'A person turns out a light, and then sits on the bottom step of a flight of stairs, eating some snack food while they watch media on their laptop.', 'BDFDE': 'A person is walking toward a chair. They sit in the chair and take some medicine.', 'H6N4Z': 'A person is putting clothes away on a shelf in a walk-in closet. The person is watching a video on a phone as they do this.', 'OBTP8': 'A person opens a door and enters a bedroom. They begin dressing in clothes and grab a box and leave.', '4021N': 'A person is tidying the laundry room. They throw a pillow into the corner and put a camera into a box.', 'ZSHWE': \"A person is walking down stairs while grasping a book.  The person has a towel draped over the person's shoulder and stops at the bottom of the stairs to undress.\", 'SFDTP': 'A person is seen dressing themselves. The person takes clothes out of the box and stands there looking at them.', 'Q5EPP': 'A person opens a bottle of medicine and plays with food.', 'SK6FW': 'A person is undressing their warm clothes. They see a broom and start playing with it, pretending it is a microphone.', 'VHIG7': 'A person is eating food, then laughing at a laptop in a basement.', '0R6K4': 'A person takes a glass of water from the desk and drinks it.', 'PSPMA': 'A person is seen watching television as they put on their shoes. They start laughing, then take a bit out of their food.', 'MD41D': 'A person is standing at the window and watching outside. They take a photograph through the window using a camera.', 'SDXZ8': 'A person walks into their kitchen and starts tidying up. The person washes the dishes and then vacuums the floor.', 'S673O': 'A person lies on a sofa in the living room, laughing as they watch television. The person pours a drink into their glass, and takes a bite of their sandwich.', 'U79C9': 'A person sits on stairs and takes off their shoes, then grabs a blanket and snuggles it.', 'N915C': 'A person is undressing as the person stands in front of the wardrobe. Then, wrapped in a blanket, the person picks up a broom and begins tidying the room.', 'FXRMG': 'A person takes a book from their desk. Holding the book, the person looks around and leaves the room.', 'P68QV': 'A person is seen smiling and looking at their camera. They begin eating and then pick up a bag of groceries to put away.', '78XZ9': 'A person is standing on a box and smiling at a book.', '0VOQC': 'One person runs in with a phone, then eats something out of a bag, then closes the bag.', 'E6Q95': 'A person is undressing and wrapping herself in a blanket. A person is walking to sit in front of the television and eat a sandwich.', 'G99VH': 'A person is smiling at a camera and then pouring medicine into a spoon on the stairs.', 'DWHPO': 'A person is sitting and smiling at another person who has a bag of food.', 'H603E': 'A person is reading a book while working on their laptop. The person puts the book down and starts eating.', 'CBXVQ': 'A person stands in front of their pantry pulling food off of the shelf , they walk to the sink grasping a piece of fruit and began washing it.', 'PN4MI': 'One person stands drinking and laughing in the doorway as another person awakens with homework and a sandwich in front of them.', 'VJ2QS': 'One person pours something down the sink, then sits at the table and plays with their food.', 'FI1LR': 'A person is cooking on the stove and another person is putting up groceries.', 'AY08E': 'A person is in the bedroom holding some clothes.  Then the person starts smiling while looking at themselves in the mirror.', '7XNAI': \"A smiling person is walking into a recreation room has set a sandwich next to the person's laptop.\", 'IST7I': 'Person is snuggling with blanket watching television and eating food out of box.', 'OI3BC': 'A person puts a towel onto a chair in their study. The person notices an open drawer in the nearby desk; the person closes it.', 'F4BJJ': 'A smiling person runs through the doorway.  The person puts a bag down on the desk.  The person takes a book out of the bag and stands by the desk holding it.', '83654': 'A person puts a sandwich down onto a desk. The person sits down at the desk, and opens a box.', '0G0YF': 'A person walks to a refrigerator, closes the refrigerator door, and then cooks at a stove.', '0R5GS': 'A person in the recreation room is walking around holding a box that they picked up from the desk. Their walking turns into running as they look into a mirror and see their reflection.', 'PVB4S': 'A person is walking down the stairs holding a bag in their hand.  When they get to the bottom of the stairs, the person throws the bag next to the sofa.', 'N2OCX': 'A person laughs while holding a broom in the basement, then sneezes on a chair.', 'Q5GVZ': 'A person is standing in the hallway holding a towel and a cup of coffee.  The person puts the towel onto a pile of clothes and fixes a crooked picture on the wall.', 'R7107': 'A person is working on a sofa. Another person walks in with a bag of groceries, closing the door behind them.', 'UMOE4': 'A person holds a box of pictures from a table in the entryway. Another person suddenly comes running through.', 'QLWQ4': 'A person is tidying up the room. They are holding a laundry bin and pick up a towel and a blanket nearby, and put it in the laundry bin.', 'S9P0W': 'A person is seen holding a towel which they put into a box. They then start pouring themselves some water and turning off the light', 'U1DTW': 'A person is tidying up with a broom. The person starts laughing because of something they noticed outside the window.', 'R6CIX': 'A person standing looks like they are fixing a door hinge but gets tired and sits on a sofa.', '2PREF': 'A person is in the kitchen holding a frying pan.  They put the pan on the stove and go to the shelf for a can of food.  The person opens the can and sets it next to the stove.', '57J92': 'One person grasps a broom and smiles at another person who is eating a sandwich and watching the first person.', 'R2DA8': 'A person is seen sneezing while on their laptop. The person then begins throwing food on a plate from the fridge.', 'VCU4P': 'A person is smiling and watching a person as the person folds a blanket and puts it into a cabinet.', 'U3OJV': 'A person is drinking coffee and grasping a phone with their other hand.', 'T1CQE': 'Person walks into the bedroom, takes their laptop out of a bag, and lies down on the bed.', 'FPNT1': 'A person walks up the stairs grasping a laptop and some homework.  Halfway up the stairs they throw the homework down.', '3ZKDY': 'A person snuggling with a blanket asleep on the sofa, begins awakening and sitting up with a yawn.', '3MAY9': 'A person holding a camera takes a picture of a cabinet.  They set the camera down, pick up a glass and start drinking as they turn out the light and walk away.', '0TQZQ': 'A person stands in front of the medicine cabinet, reading a book. The person closes the book, and runs out of the bathroom.', 'G70A2': 'A person is sneezing and then starts tidying the book on the shelf.', 'R00LO': 'A person is walking toward a pantry while snuggling a blanket. The person grabs a sandwich.', 'CMD0M': 'A person is tidying up some junk on the shelf.  Then the person pours some liquid into a glass.', '2WGSN': 'A person drinks from a cup then puts it in the sink and begins washing it with a towel.', 'KV99H': 'Person opens desk to messy clutter of shoes and glasses. Person tidies up by throwing things into bag.', 'EDVAM': 'A person is holding a pillow. Then, sneezing, the person gets up and begins closing the window.', 'R1S1Z': 'A person is taking groceries from a bag and throwing them to a person as the person stands by the fridge, ready to put them away.', 'FDYQZ': 'A person standing at a sink starts to undress. Another person runs by holding a pillow in their arms.', 'V3DJ5': 'One person snuggling under a blanket sneezes, smiles, then takes a piece of food.', '9GMHF': 'A person is laughing as the person hangs their coat up in the cabinet. Then the person opens the door and reaches for a broom to sweep out the entryway.', 'G6MYM': 'A person is in the entryway watching the mirror.  Another person is working on bringing in groceries to the house.', '7HZHM': 'A person is undressing in front of the mirror. They sneeze and grab a tissue from the tissue box.', 'XOMJ4': 'A person is taking medicine out of the cabinet.  The person pours a tablespoon of the medicine and drinks it, then puts it back in the cabinet and sits in a chair.', 'L2ZZB': 'A person is undressing in the hallway by taking their  jacket off. They start lying down on a blanket while pulling out their phone.', '5ACD3': 'A person lying on the floor in the living room is drinking their favorite beverage and watching something out the window.  They get up, bringing their empty glass with them, and put it on a table.', 'UAT1F': 'A person is standing while holding a book in their home office. They then walk over to a desk, put the book down and open a laptop.', 'MZOPX': 'A person is playing on their new laptop and then washes a glass they used earlier.', 'VLE11': 'A person is at a dining room table playing with a television remote, they then put the remote down and open up their homework book.', 'S67WR': 'A person is fixing a vacuum then opens the door to leave.', '00SL4': 'A person is opening a closet door. The person, smiling, then places a blanket on the shelf.', 'SYMIR': 'A person is standing in the hall undressing after work, taking off their shoes and jacket. This person places the shoes on a nearby towel.', 'U3VOM': 'One person is lying on a blanket by the door when another person throws down some clothes and leaves.', 'Q01UB': 'A person is dressing by putting on a jacket. Then the person puts some shoes next to an open laptop.', 'S72J9': 'A person drinks a glass of water while closing the dryer door. The person looks out the window.', '6EU06': 'A person can close a book in the hallway, A person can wash a table in the hallway.', 'PVVQS': 'A person walks in the kitchen and turns on the light. The are laughing and begin throwing their shoes.', 'FU2HI': 'A bag of groceries sit on a chair. A sneezing person is working a broom to death trying to sweep out the dusty corner.', 'MI76A': 'A person is lying on the sofa in their recreation room under a blanket and reading a book closes the book.', 'WFVD3': 'A person standing in the doorway opening, throws a book inside near a laptop.', 'XHQT1': 'A person is tidying shoes on a shelf in a garage. The person then walks through a doorway and exits the garage.', 'XECIL': 'A person is eating a sandwich in the pantry, and takes a bag of chips from the cabinet. The person wipes their hands with a paper towel.', 'TX020': 'A person runs into the garage, eating a sandwich. The person puts on a pair of shoes and leaves.', 'VAXUU': 'A person is seen taking a camera from their closet. They grasp the doorknob and begin closing the closet door.', 'UKCTK': 'One person takes a broom and a camera from the room and leaves, smiling.', 'AZC1I': 'A person is seen fixing a chair in the laundry room. They smile and sit in the chair, pulling out their laptop.', 'Q24KP': 'One person puts a blanket on a table while a other person is laughing next to a cabinet.', 'OOWJ9': 'A person is eating some food while they read a book. The pour a glass of water and start taking a drink.', '5Z1CO': 'A person is playing by trying to juggle the medicine, book, and food they just picked up while tidying.', 'DB4WX': 'A person is playing with a pillow. A person is smiling as the person watches her, leaning on a table.', 'UBVV7': 'Person puts blanket in box. Person smiles. Person eats small food item. Person closes box and puts box in closet.', 'AGWQA': 'A person walks into a laundry room and throws a towel in the dryer closing the door. The person then fixes the placement of detergents on the shelf.', 'TJBGM': \"A person is standing with a broom in the entryway.  The person then walking over to grab a book that's nearby.\", '0NFT7': 'A person is tidying up the garage by putting up some towels. A second person enters the doorway to hand the person a drink. The first person drinks from the glass as they walk out of the garage through the same doorway.', 'AX4EW': 'A person is eating in a dining room and then sneezes. Another person takes a picture of the person sneezing with a camera.', 'LT2IJ': 'A person is putting and taking, boxes and pictures from a cabinet.', 'X0CKA': 'Person is standing looking at a picture on a shelf. Person begins drinking a glass of water.', 'JZ9L4': 'A person is seen fixing clothes and sitting on a chair. The person begins holding a towel to put away.', 'MLDGN': 'A person in the laundry room is dressing by putting on some clothes. They see a picture on the laundry machine and start watching the picture.', 'VPJLN': 'A person turns the doorknob and runs in through the entryway holding some clothes.', 'CW9VO': 'A person watching the television sneezes and grabs a tissue from the desk.', 'XCUOD': 'A person in a towel is dressing for work. Another person is eating food at the kitchen table.', 'YQOPM': 'A person throws some clothes into a box. The person stands there for a moment, then removes the clothes and begins to fold them.', 'VJ3B5': 'A person is in the bathroom and there is an empty box in the sink.  The person picks up the box and throws it to the floor while laughing.', '1D31Z': 'A person is fixing a sandwich in the pantry. The person laughs as they take a drink from a glass of water, then leaves through the doorway.', 'LWP5F': 'A person is seen grasping a sandwich eating it. The person begins opening a box and pulls out some clothes.', 'HDDU0': 'A person is grasping their mug of coffee as the person works on their homework. Then, laughing, the person stands and walks to the refrigerator.', 'NMG2Z': 'A person is in a basement undressing from their clothes, they then start snuggling with their shirt by a closed door.', 'TU3IG': 'A person is holding a box while taking some medicine.', 'C1LJS': 'A person opens the bedroom door, walks through, closes it, then lies down on the bed.', 'WFWTU': 'A person runs into the garage, eating a piece of food. The person runs out, closing the door behind them.', 'KU2T0': 'A person is snuggling with a pillow while another person is lying next to a book.', '9WX7N': 'A person is sitting on the stairs with a pillow in their lap.  The person stands up and looks in the mirror, smiles, then sneezes.', '8W0XJ': 'A person closes the garage window and smiles. The person takes a camera from the shelf and snaps a picture.', 'IUW9N': 'A person walks into the bathroom, closing the door behind them. The person looks in the mirror and adjusts their clothes.', '3H0PT': 'A person is sitting at a desk eating food. They get up and leave the room closing the door behind them.', '9JIHR': 'A person is lying on the floor on a hallway kicking a door. The person then gets up and walks towards a box in the hallway.', 'W6QUC': 'One person washes the window with a towel as another lies on the floor fixing a broken chair.', 'XBXKO': 'A person is watching a video on their while washing clothes. The person takes some clothes out of the dryer and puts them into a box.', 'WYHPH': 'A person laughing at a camera while awakening next to a cabinet.', 'GLH5S': 'One person stands, opens a jar of medicine and sneezes, then puts it in a desk and closes it.', 'UU5XI': 'A person is fixing the doorknob.  Then a person is taking groceries out of the room.', 'PK2F0': 'A person walks into the bedroom holding a stack of clothing, they put the clothing down walk back to the door and close it they put away the clothing in the wardrobe and then lay down on the bed.', 'PXKFK': 'A person is smiling at the light outside the door.  Then a person is taking groceries inside that were in a bag by the door.', '7AH3L': 'A person is walking around a table, then lying on the floor, then using a vacuum and finally taking off shoes in a dining room.', 'C41G7': 'A person is tidying the hallway with a broom. They stop, and start playing with a television.', 'OOOQT': 'The person tidying the refrigerator stands near the doorway holding the door open, grasping at food.', 'O0C2Z': 'A person is throwing food in a sink and then holding a broom in a kitchen.', 'OEBAH': 'A person is walking along the hall holding a pair of shoes for playing golf and a towel.', '17AZ5': 'A person is dressing while walking down the hallway. The person sneezes, then takes out of bottle of medicine. The person turns out the light and leaves the hallway.', 'YPZQ2': 'The person is standing in the hallway with bags of groceries, while another person takes some of the groceries and leaves through the door.', 'MMKKS': 'Person of struggling to tidying up the hallway, by throwing stuff off the glass table.', 'BWKJB': 'A person takes a blanket from a chair and laughs as they fold it. The person gets distracted by their phone, and begins playing with it.', '7OPHI': 'A person opens their laptop and begins watching a video. After a moment, the person closes their laptop and grasps the doorknob.', 'R0207': 'A person in the hallway lying on the floor. The person begins working on the laptop begins eating a sandwich at the doorway.', 'U75AZ': 'A person is undressing in the laundry room.  The person grasps the side of a chair to steady their balance and knocks a book onto the floor.', 'MIV2M': 'A person opens a door and walks into their living room holding a bag. They pour them self a drink and sit on the sofa .', 'HXSMP': 'A person walks into the office, closes the door, and smiles into the mirror.', 'OVICR': 'A person is fixing a phone.  Then a person is sneezing while they put their homework in a pile.', 'QGHR6': 'A person in the living room is undressing by taking their jacket off. They begin eating some food and then take a broom that is lying by the window and placing it on the ground.', 'Z3DBQ': 'Person opens door to apartment.  Person turns on the light.  Person carries bags of groceries up the stairs.  Person gets to the top of the stairs and throws down the bags of groceries.  The person lets out a big smile.', 'SL9ZD': 'The person holding the box was working on setting up a chair on the second floor.', 'AZZVK': 'A person is tidying the house by sweeping a broom across the stairs. They are standing on the stairs with a light hanging above them.', 'FO2RD': 'A person smiles as they work on homework at a table. The person eats from a bag of chips.', 'MS3E8': 'A person smiles as they walk into the pantry, carrying a holding a box. The person sets the box down on a table, and begins laughing as they put the groceries away.', '1X765': 'A person is sitting in their laundry room, eating a sandwich and playing with their phone. The dryer finishes spinning and they walk to it to gather up all their clothes.', 'RGHXS': 'A person is laughing on the phone while washing a glass', 'VG9II': 'A person is drinking coffee and scoots a chair to them. It has a pillow on it and the person puts their feet up to take a break.', 'EN80R': 'A person is cooking on a stove, then the person starts taking medicine to help with a sickness.', 'HIOY0': \"A person wakes up on the sofa and takes the pillow out from under their head and throws it on the floor.  The person turns on the television and laughs at what's on it.\", 'LZ07A': 'A person is dressing as the person sits on the chair. Then, standing, the person reaches for their bag and leaves the room.', 'XV8CH': 'A person is cooking at the stove, taking a spoon out of a drawer.  Another person walks in the door and puts their keys on the table.', 'JCKRL': 'A person is walking through a doorway and sneezing, then drinking coffee in a recreation room / man cave.', 'RANB1': 'A person is undressing in the mirror while a other person is lying in bed.', 'VIKQG': 'A person runs into the living room and takes a pair of shoes from under a desk.', 'IR7CA': 'A person is seen taking a broom to sweep the bathroom. They begin sneezing and start looking inside of a nearby cabinet.', 'K2L7F': 'A person brings a broom into the bathroom.  The person sneezes violently three times.  They then lean the broom against the doorknob of the bathroom door, and they lie down on the floor of the bathroom in order to catch their breath from the sneezing.', 'JNWX7': 'A person grabbing a drink out of the refrigerator. The person closes the door and pours the drink into a glass. The person leaves the glass on the counter.', 'WLOCV': 'A person is playing peek-a-boo with another person in front of a mirror. They then take selfies in front of the mirror with a camera.', '94KP4': 'A person is standing in the bedroom eating a piece of fruit , they start looking on the table , they turn on the light so they can see better they pick up a book . Smile and leave the room .', '1Y5H7': 'A person is leaving the vacuum in the laundry room.  The person then then starts lying towels down.', 'KW4Y1': 'A person is undressing, then putting on clothes, and finally cleaning a mirror in a hallway.', 'WYYUD': 'A person is undressing in bed. Smiling, a person is taking their clothes and putting them in the hamper.', 'GKH4A': 'A person is using a vacuum to clean the foor. Then the person is tidying the sofa, taking a bag from the couch and setting it on the floor.', 'FLCZA': 'A person is lying on a blanket after drinking a glass of wine.', '1BUFQ': 'A person is walking back and forth in front of a television. They start sneezing, so they stop and stare at the ceiling to stop the sneezes. It works, so they smile while they sit and draw a picture.', 'KW3BO': 'Person is eating box of candy and drinking coffee then starts laughing.', 'CO1S9': 'One person walks into the pantry, grasps a box and a bag, then runs out.', 'N588B': 'A person is in a hallway putting a camera in a box, then they close the box and carry it out the doorway.', 'ZS1P1': 'One person sits working on a laptop laughing. A book is next to the laptop.', '2H5YP': 'A person is tidying up the bathroom. The person puts something into the medicine cabinet, closes the cabinet door, then looks into the mirror for a moment.', 'I6AZD': 'A person is sitting on a sofa covered with a blanket. The person stands, removes their shoes, and lays down.', '99DTF': 'A person is walking up the stairs while grasping a box. They pull a phone from the box.', 'QDINO': 'A person is lying on a pillow and then sneezing on dishes on a table in the dining room.', '3CPVF': 'After tidying up, a person grasps for their wine glass as they sit down on the sofa holding their phone.', 'QIQXR': 'A person puts on shoes, then grasps the vacuum and begins cleaning the floors.', 'SXYLN': 'A person in a garage is holding groceries and a sandwich. They put the bag down and start eating the sandwich. They throw the sandwich wrapper in the garbage and leave.', 'I6B5D': 'A person is grasping at a towel while washing their teeth and reading homework.', 'MJX48': 'A person puts a pair of shoes into a bag, then throws the bag up the stairs.', 'YMGGV': 'A person is watching television and smiling. Then, taking a blanket from the doorway, the person wraps it around herself.', 'J39ZC': 'A person is standing by a table.  A person is eating something from a box and drinking something.', 'C5BMA': 'The person was running through the kitchen, eating a sandwich and talking.  When the person finished running, the sandwich was put into the sink.', '2INEX': 'A person enters the dining room and sets their cup of coffee down. They start grasping clothes out of a laundry basket and throwing them on the floor.', 'GV40M': 'In a bedroom, a person is awakening. They look at a light and sneeze. Then they look towards the door and begin to get out of bed.', 'D8QFD': 'Person is playing on the phone near a window and smiling while he plays.', '0YXN6': 'A person is smiling while reading a book.  Another person standing in the doorway sneezes and blows their nose.', 'J12SC': 'A person takes their shoes off then opens a box and take a camera out while on some stairs.', 'H2ZYY': 'A person is opening the cabinet and taking their shoes off.', 'WMBOO': 'A person opens the door to the pantry and begins stocking it with some groceries. The person picks up a roll of paper towels from the floor and places it on the shelf, then leaves.', '3C36H': 'Person is sitting on chair doing homework, Another person opening bag and starts sneezing.', 'ZYVTC': 'A person is sitting on a pile of clothes eating food.  The person puts the food down and opens a book to read.  The person grabs their phone, gets up and leaves.', 'J40UT': 'A person in a bathroom is holding a glass. The person drinks the last of the coffee in a glass, then washes a glass in the sink. And begins tidying up the bathroom.', '9HGNV': 'A person walking into an entryway is snuggling a pillow and blanket.', 'HQZ29': 'A person is smiling and pouring milk on a bowl of cereal, then using a towel to wipe up spilt milk and finally putting bowl in sink in kitchen.', 'LW5O6': 'A person is tidying up the dining room with a vacuum, then smiles as they find a pair of shoes under the table.', 'PKEZI': 'Person A is in a bedroom eating a plate of food and reading a book.  Done eating, person A gets up and walks over to the wardrobe and begins undressing.', 'ZHLLU': 'A person is sitting on the floor looking at a mirror then they begin to sneeze holding a pillow.', 'F50DT': 'A person is watching a laptop while another person is smiling at a camera.', 'H3E1E': 'A person sits in the garage, drinking a cup of coffee while reading a book.', 'CXSYS': 'A person sneezes into a bag while sitting in a chair. They get up and start cooking at the stove.', 'JL3VT': 'A person runs into a bedroom and grabs a sandwich off a table. They walk out of the room.', '7P0HA': 'One person throws a bottle of medicine in the sink, then washes up and runs out with a pillow.', '2XG25': 'A person awakens in their bedroom.They look in a mirror, grab a laptop and leave.', 'MD6P2': 'A person is standing in the rec room grasping a bottle of medicine.  The person opens the medicine and pours it into a tablespoon.  After taking the medicine, the person closes the medicine and puts it back in a box.', 'YYMLT': 'A person is laughing at doing the homework on the laptop while standing by the vacuum.', 'V1PRP': 'A person is seen snuggling while sitting on a chair. They begin vacuuming the stairs while standing up.', 'X1R6D': 'A person walks into the bathroom, laughing. The person closes the door behind them, and washes their hands in the sink.', '29LL7': 'One person runs through, grasps a pair of shoes and some clothes, then leaves laughing.', '0OUEP': 'Two persons are sitting on the bed snuggling.  One person is holding a camera and a glass of water.  The other person gets up, grabs the doorknob, and closes the door.', '705RV': 'A person is seen fixing a sandwich. They then start putting the sandwich on a table and begin taking some medicine.', 'FKZTG': 'A person takes a sandwich and a book from a table in the hallway. The person leaves.', 'HOI88': 'A person is snuggling with a book while another person is grasping a desk.', 'SBMQX': 'A person is drinking a glass of juice while standing in the hall near the entrance to their house. A stranger is watching this scene through the side window.', 'CYLQ0': 'A person opens the door to a cabinet in their pantry. They grab a can of food and close the cabinet.', 'AEZDA': 'A person is eating from a bag of groceries in a hallway then starts playing with a vacuum.', '2BUDH': 'One person was grasping for some food. And then they started drinking in the light.', '2ZFG4': 'A person in the hallway is washing a window near a chair. They are smiling.', 'W2TL1': 'A person is sitting at a desk and throwing food at a television.', 'G7LU9': 'Person is in room. Person smells cooking, Person opens doorknob. Person hears laughing. Person closes door, sad.', 'WEYV3': 'A person is seen eating a sandwich at their desk. They begin holding their phone to make a call.', 'BIK4X': 'A person is lying on the sofa eating food.  They pick up a cup of coffee.', 'E7ESG': 'A person is lying down on a sofa, fast asleep. They awaken and look at the time on their phone. They then rush over to the desk, open a book and prepare to continue their homework.', 'KZK6W': 'A person is cooking food on the stove. The person pours some oil into the pan, then drinks from a glass of water.', 'A4SR3': 'A person is eating while watching television. The person begins laughing and places their food on the table.', 'CD11G': 'A person is cooking food on a stove, then opening a refrigerator and eating in a kitchen.', '0MFAM': 'A person is standing in the doorway.  Then a person is grasping a broom.', 'OVH9Y': 'A person is lying in bed while watching television. After a few seconds the person gets back to working on cleaning the room. The person walks over to a vacuum turns it on, vacuuming the floor for a bit.', '3W5GB': 'Person A is in a closet putting away some towels.  Person A throws one that is unpleasant looking and camera and a picture leaving the closet.', 'EASCD': 'The person pours out the rest of their soda into a glass and takes a drink.  Then they pick up their dirty dishes off the coffee table and carry them to the sink.', 'O1LOW': 'A person walks through a door into a hall and sees a book and other items on the floor. They pick up the book and tidy the area.', '3BVG1': 'A person puts a broom inside a hallway closet and closes the door. Another person is sitting in the hallway.', 'P5SWU': 'One person is holding the pillow while the other is fixing the television.', '7B1CR': 'A person sneezing at their phone then drinking out of a glass.', '2JKR8': 'A person is using a broom. After they are finished they leave it in the sink and begin taking some food to bring into another room.', 'WJFGC': 'A person is carrying a box with a laptop on top down the stairs. They stop and stand as they take the laptop and open it. They sit on the stairs and start to work on it.', 'ON2VH': 'One person cooks at the stove, then takes a book and a camera and leaves the room.', 'FN457': 'A person is smiling into a mirror while grasping a picture.', 'WOD0G': 'A person runs into the entryway, carrying a towel and a book. The person throws the towel onto the table.', 'J4GX8': 'The person can sneeze while holding a glass, The person can take their medicine while drinking a glass of water.', 'YJ2CM': 'a person is holding a pillow while opening the stove.', '3SIOT': 'ONe person was laughing while holding a blanket. The other was throwing around a bag', 'WXUZK': 'Person A walks into the bedroom undressing and throwing the clothing onto a chair.  Person A them climbs onto the bed snuggling under the blanket and lying down.', 'GXIWH': 'A person is smiling at the bag and opening the coffee.', 'H40VV': 'A person is holding the door while another person is walking with the dishes.', 'V7KBN': 'Person pouring a drink after taking a glass from a shelf.  Person sneezing after leaving dining room.', '7W1ZI': 'Two persons are playing cards on the floor.  One person takes all the cards and puts them back in the box and closes it.  The person gets up and puts the deck of cards on the shelf next to a book.', '29T54': 'One person stands and starts undressing, opening a wardrobe cabinet to get clothes.', 'A9BDS': 'A person is standing over the sink. The person carries a bag into the dining room and sets it on the table before sitting down and pouring himself a drink.', 'PTA97': 'A person is seen fixing their hair at their closet. They start putting books inside the closet on a shelf.', 'MUAR4': 'A person is sitting on a chair, when they get up and walk away leaving a laptop on a desk.', 'VSWNF': 'A person is sitting on the stairs with a blanket.  The person then starts tidying a pile of homework.', '9FBAP': 'A person is laughing while opening the refrigerator and taking out a bag of carrots.', 'U6KQ7': 'A person is putting the excess food away from the table while they see the other person leaving and closing the door behind them.', 'F76GD': 'One person undresses, taking off a pair of shoes, then drinks from a glass and washes their hands.', 'WT9CR': 'One person is taking a picture with their laptop while another is playing by the door.', 'T03KF': 'The person is looking through their wardrobe and throwing clothes on the floor. They pick food up and begin eating it.', 'FCBEQ': 'A person is seen pouring food in a glass. They then start watching television and smiling', 'IA5TC': 'A person is putting a box on the shelf and then closing the cabinet.', 'YXPTI': 'One person is washing tennis shoes and a pillow while another person with a phone is leaving through the doorway.', 'FBIVN': 'A person is standing in the doorway, closes the door and grabs a pillow off a shelf and begins holding it.', '1RHDP': 'A person is walking with the vacuum. A pillow gets sucked up. The person rescues the pillow, and snuggles it.', 'J6L8A': 'The person is holding a broom while tidying the counter.  They then start pouring water into a pot on the stove.', 'D19IR': \"A person stands in a hallway looking out the window watching kids playing while holding a bag of groceries. The person is putting the bag on the floor to pick up the fallen broom so they don't trip over it.\", '4SN6Z': 'One person stands up, tidies up some dishes, then closes the stove and starts to cook.', 'M1P59': 'A person is eating in their pantry while playing on their phone. They grab a bag, and their shoes, and leave.', 'M1B7N': 'A person cooks something in a pot on the stove, then reaches over to open a cabinet door to grab some dishes from the shelf and place them next to the stove.  They then take a sip of coffee from a cup.', 'ZL7E9': 'One person takes medicine as another person laughs, standing at the stove with food.', '88LYX': 'A person is cooking on their stove. They stop momentarily, wash a glass, and go back to cooking.', 'S2RIQ': 'A person stands in the kitchen, cooking food on the stove.', 'IVJWH': 'A person is putting clothes on the sofa and begins sneezing at the smell of the food.', 'X1RBM': 'A person is playing with a mirror sitting on the toilet then begings to eat on top of the sink.', '48CYX': 'A person undresses in the bathroom. They begin washing themselves with a washcloth. They take a book from atop a shelf and walk out.', '3SDJE': 'A person is closing the stove and then puts a cook book back where it belongs.', 'SPKSE': 'A person is grasping a phone the puts a towel down.', 'UGMJZ': 'One person is throwing towels into the dryer. Another person is sitting on top of the dryer holding a book and reading.'}\n"
          ],
          "name": "stdout"
        }
      ]
    },
    {
      "cell_type": "code",
      "metadata": {
        "id": "yVsVFWR3N1r9",
        "colab_type": "code",
        "colab": {}
      },
      "source": [
        "path = '/charades_v1_rgb/'\n",
        "ar = []"
      ],
      "execution_count": 0,
      "outputs": []
    },
    {
      "cell_type": "code",
      "metadata": {
        "id": "1gRRr5n4OfeO",
        "colab_type": "code",
        "colab": {}
      },
      "source": [
        "dir_path = os.getcwd() + path\n",
        "ar = next(os.walk(dir_path))[1]"
      ],
      "execution_count": 0,
      "outputs": []
    },
    {
      "cell_type": "code",
      "metadata": {
        "id": "WNOJvGw-O7Iw",
        "colab_type": "code",
        "outputId": "4a1dded7-fe15-4d02-a251-5abb9876a216",
        "colab": {
          "base_uri": "https://localhost:8080/",
          "height": 153
        }
      },
      "source": [
        "!ls"
      ],
      "execution_count": 0,
      "outputs": [
        {
          "output_type": "stream",
          "text": [
            " charades-algorithms-master.zip   frameextractor.ipynb\n",
            " charades_v1_rgb\t\t  image_embedding_bak.npy\n",
            " Charades_v1_rgb.tar\t\t  image_embedding.npy\n",
            "'Charades_v1_train (1).gsheet'\t  img_emd.npy\n",
            " Charades_v1_train.csv\t\t  my2.png\n",
            " Charades_v1_train.gsheet\t  my.png\n",
            "'Copy of image_embedding.npy'\t  vid_ids.csv\n",
            " dataset\n"
          ],
          "name": "stdout"
        }
      ]
    },
    {
      "cell_type": "code",
      "metadata": {
        "id": "AAc6rS8jUDsV",
        "colab_type": "code",
        "colab": {}
      },
      "source": [
        "def load_image( infilename ) :\n",
        "    img = Image.open( infilename )\n",
        "    img.load()\n",
        "    data = np.asarray( img, dtype=\"int32\" )\n",
        "    return data"
      ],
      "execution_count": 0,
      "outputs": []
    },
    {
      "cell_type": "code",
      "metadata": {
        "id": "fR7WW1zwIlJG",
        "colab_type": "code",
        "outputId": "acdc9372-d4c1-4637-8d19-4dd2ac1c3227",
        "colab": {
          "base_uri": "https://localhost:8080/",
          "height": 391
        }
      },
      "source": [
        "action_frames = {}\n",
        "label_count = {}\n",
        "\n",
        "for j in range(len(ar)):\n",
        "  action_frames[ar[j]] = {}\n",
        "\n",
        "for i in range(len(df)):\n",
        "  for j in range(len(ar)):\n",
        "    if(df.loc[i, \"id\"] == ar[j]):\n",
        "      actions = df.loc[i, \"actions\"].split(\";\")\n",
        "      label_count[ar[j]] = len(actions)\n",
        "      v_id = df.loc[i, \"id\"]\n",
        "      frames = []\n",
        "      video_path = os.getcwd() + path + v_id\n",
        "      print(video_path)\n",
        "      for r, d, f in os.walk(video_path):     \n",
        "        for files in f:\n",
        "          nar = load_image(video_path + '/' + files)\n",
        "          frames.append(nar)\n",
        "      frames = frames[:-1]\n",
        "      print(len(frames))\n",
        "      req_frames = {}\n",
        "      for k in range(len(actions)):\n",
        "        label, start, end = actions[k].split(' ')\n",
        "        req_frames[label] = []\n",
        "      for p in range(len(frames)):\n",
        "        for k in range(len(actions)):\n",
        "          label, start, end = actions[k].split(' ')\n",
        "          startframe = math.floor(float(start) * 24)\n",
        "          endframe = math.floor(float(end) * 24)\n",
        "          if(p >= startframe and p <= endframe):\n",
        "            req_frames[label].append(frames[p])\n",
        "      print(\"DONE\")\n",
        "      imp_frames = {}\n",
        "      for k in range(len(actions)):\n",
        "        label, start, end = actions[k].split(' ')\n",
        "        imp_frames[label] = []\n",
        "        for p in range(len(req_frames[label])):\n",
        "          matches = 0\n",
        "          print(p)\n",
        "          if(p % 3 == 0):\n",
        "            imp_frames[label].append(req_frames[label][p])\n",
        "          print(len(req_frames[label]), len(imp_frames[label]))\n",
        "      action_frames[ar[j]] = imp_frames\n",
        "      for actions in action_frames[ar[j]]:\n",
        "        print((np.array(action_frames[ar[j]][actions]).shape))\n",
        "print(action_frames)\n",
        "print(label_count)\n",
        "              \n",
        "  "
      ],
      "execution_count": 0,
      "outputs": [
        {
          "output_type": "stream",
          "text": [
            "/content/drive/My Drive/CGM Project/charades_v1_rgb/4SN6Z\n"
          ],
          "name": "stdout"
        },
        {
          "output_type": "error",
          "ename": "KeyboardInterrupt",
          "evalue": "ignored",
          "traceback": [
            "\u001b[0;31m---------------------------------------------------------------------------\u001b[0m",
            "\u001b[0;31mKeyboardInterrupt\u001b[0m                         Traceback (most recent call last)",
            "\u001b[0;32m<ipython-input-24-c4c7e43520a0>\u001b[0m in \u001b[0;36m<module>\u001b[0;34m()\u001b[0m\n\u001b[1;32m     16\u001b[0m       \u001b[0;32mfor\u001b[0m \u001b[0mr\u001b[0m\u001b[0;34m,\u001b[0m \u001b[0md\u001b[0m\u001b[0;34m,\u001b[0m \u001b[0mf\u001b[0m \u001b[0;32min\u001b[0m \u001b[0mos\u001b[0m\u001b[0;34m.\u001b[0m\u001b[0mwalk\u001b[0m\u001b[0;34m(\u001b[0m\u001b[0mvideo_path\u001b[0m\u001b[0;34m)\u001b[0m\u001b[0;34m:\u001b[0m\u001b[0;34m\u001b[0m\u001b[0;34m\u001b[0m\u001b[0m\n\u001b[1;32m     17\u001b[0m         \u001b[0;32mfor\u001b[0m \u001b[0mfiles\u001b[0m \u001b[0;32min\u001b[0m \u001b[0mf\u001b[0m\u001b[0;34m:\u001b[0m\u001b[0;34m\u001b[0m\u001b[0;34m\u001b[0m\u001b[0m\n\u001b[0;32m---> 18\u001b[0;31m           \u001b[0mnar\u001b[0m \u001b[0;34m=\u001b[0m \u001b[0mload_image\u001b[0m\u001b[0;34m(\u001b[0m\u001b[0mvideo_path\u001b[0m \u001b[0;34m+\u001b[0m \u001b[0;34m'/'\u001b[0m \u001b[0;34m+\u001b[0m \u001b[0mfiles\u001b[0m\u001b[0;34m)\u001b[0m\u001b[0;34m\u001b[0m\u001b[0;34m\u001b[0m\u001b[0m\n\u001b[0m\u001b[1;32m     19\u001b[0m           \u001b[0mframes\u001b[0m\u001b[0;34m.\u001b[0m\u001b[0mappend\u001b[0m\u001b[0;34m(\u001b[0m\u001b[0mnar\u001b[0m\u001b[0;34m)\u001b[0m\u001b[0;34m\u001b[0m\u001b[0;34m\u001b[0m\u001b[0m\n\u001b[1;32m     20\u001b[0m       \u001b[0mframes\u001b[0m \u001b[0;34m=\u001b[0m \u001b[0mframes\u001b[0m\u001b[0;34m[\u001b[0m\u001b[0;34m:\u001b[0m\u001b[0;34m-\u001b[0m\u001b[0;36m1\u001b[0m\u001b[0;34m]\u001b[0m\u001b[0;34m\u001b[0m\u001b[0;34m\u001b[0m\u001b[0m\n",
            "\u001b[0;32m<ipython-input-19-8ce25d57c464>\u001b[0m in \u001b[0;36mload_image\u001b[0;34m(infilename)\u001b[0m\n\u001b[1;32m      1\u001b[0m \u001b[0;32mdef\u001b[0m \u001b[0mload_image\u001b[0m\u001b[0;34m(\u001b[0m \u001b[0minfilename\u001b[0m \u001b[0;34m)\u001b[0m \u001b[0;34m:\u001b[0m\u001b[0;34m\u001b[0m\u001b[0;34m\u001b[0m\u001b[0m\n\u001b[0;32m----> 2\u001b[0;31m     \u001b[0mimg\u001b[0m \u001b[0;34m=\u001b[0m \u001b[0mImage\u001b[0m\u001b[0;34m.\u001b[0m\u001b[0mopen\u001b[0m\u001b[0;34m(\u001b[0m \u001b[0minfilename\u001b[0m \u001b[0;34m)\u001b[0m\u001b[0;34m\u001b[0m\u001b[0;34m\u001b[0m\u001b[0m\n\u001b[0m\u001b[1;32m      3\u001b[0m     \u001b[0mimg\u001b[0m\u001b[0;34m.\u001b[0m\u001b[0mload\u001b[0m\u001b[0;34m(\u001b[0m\u001b[0;34m)\u001b[0m\u001b[0;34m\u001b[0m\u001b[0;34m\u001b[0m\u001b[0m\n\u001b[1;32m      4\u001b[0m     \u001b[0mdata\u001b[0m \u001b[0;34m=\u001b[0m \u001b[0mnp\u001b[0m\u001b[0;34m.\u001b[0m\u001b[0masarray\u001b[0m\u001b[0;34m(\u001b[0m \u001b[0mimg\u001b[0m\u001b[0;34m,\u001b[0m \u001b[0mdtype\u001b[0m\u001b[0;34m=\u001b[0m\u001b[0;34m\"int32\"\u001b[0m \u001b[0;34m)\u001b[0m\u001b[0;34m\u001b[0m\u001b[0;34m\u001b[0m\u001b[0m\n\u001b[1;32m      5\u001b[0m     \u001b[0;32mreturn\u001b[0m \u001b[0mdata\u001b[0m\u001b[0;34m\u001b[0m\u001b[0;34m\u001b[0m\u001b[0m\n",
            "\u001b[0;32m/usr/local/lib/python3.6/dist-packages/PIL/Image.py\u001b[0m in \u001b[0;36mopen\u001b[0;34m(fp, mode)\u001b[0m\n\u001b[1;32m   2537\u001b[0m         \u001b[0mexclusive_fp\u001b[0m \u001b[0;34m=\u001b[0m \u001b[0;32mTrue\u001b[0m\u001b[0;34m\u001b[0m\u001b[0;34m\u001b[0m\u001b[0m\n\u001b[1;32m   2538\u001b[0m \u001b[0;34m\u001b[0m\u001b[0m\n\u001b[0;32m-> 2539\u001b[0;31m     \u001b[0mprefix\u001b[0m \u001b[0;34m=\u001b[0m \u001b[0mfp\u001b[0m\u001b[0;34m.\u001b[0m\u001b[0mread\u001b[0m\u001b[0;34m(\u001b[0m\u001b[0;36m16\u001b[0m\u001b[0;34m)\u001b[0m\u001b[0;34m\u001b[0m\u001b[0;34m\u001b[0m\u001b[0m\n\u001b[0m\u001b[1;32m   2540\u001b[0m \u001b[0;34m\u001b[0m\u001b[0m\n\u001b[1;32m   2541\u001b[0m     \u001b[0mpreinit\u001b[0m\u001b[0;34m(\u001b[0m\u001b[0;34m)\u001b[0m\u001b[0;34m\u001b[0m\u001b[0;34m\u001b[0m\u001b[0m\n",
            "\u001b[0;31mKeyboardInterrupt\u001b[0m: "
          ]
        }
      ]
    },
    {
      "cell_type": "code",
      "metadata": {
        "id": "w1kO6jneKy9V",
        "colab_type": "code",
        "outputId": "8bae48d6-0a1e-4860-9a7b-c3f13d511d5f",
        "colab": {
          "base_uri": "https://localhost:8080/",
          "height": 34
        }
      },
      "source": [
        "print(df.loc[0, \"id\"])"
      ],
      "execution_count": 0,
      "outputs": [
        {
          "output_type": "stream",
          "text": [
            "46GP8\n"
          ],
          "name": "stdout"
        }
      ]
    }
  ]
}